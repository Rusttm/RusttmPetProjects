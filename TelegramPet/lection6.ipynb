{
 "cells": [
  {
   "cell_type": "markdown",
   "id": "547cacff",
   "metadata": {
    "id": "547cacff"
   },
   "source": [
    "## Первые шаги"
   ]
  },
  {
   "cell_type": "code",
   "execution_count": null,
   "id": "34c4e1da",
   "metadata": {
    "id": "34c4e1da"
   },
   "outputs": [],
   "source": [
    "print('ку-ку')"
   ]
  },
  {
   "cell_type": "code",
   "execution_count": null,
   "id": "d1b3b7df",
   "metadata": {
    "id": "d1b3b7df"
   },
   "outputs": [],
   "source": [
    "h = 0\n",
    "while h< 10:\n",
    "    h +=1"
   ]
  },
  {
   "cell_type": "code",
   "execution_count": null,
   "id": "a7742ce9",
   "metadata": {
    "id": "a7742ce9"
   },
   "outputs": [],
   "source": [
    "x = 2"
   ]
  },
  {
   "cell_type": "code",
   "execution_count": null,
   "id": "8acb3ab5",
   "metadata": {
    "id": "8acb3ab5"
   },
   "outputs": [],
   "source": [
    "x"
   ]
  },
  {
   "cell_type": "code",
   "execution_count": null,
   "id": "1ad60c64",
   "metadata": {
    "id": "1ad60c64"
   },
   "outputs": [],
   "source": [
    "x + 12"
   ]
  },
  {
   "cell_type": "code",
   "execution_count": null,
   "id": "aa43efae",
   "metadata": {
    "id": "aa43efae"
   },
   "outputs": [],
   "source": [
    "x = 11\n",
    "y = 22\n",
    "x + y"
   ]
  },
  {
   "cell_type": "code",
   "execution_count": null,
   "id": "e661568a",
   "metadata": {
    "id": "e661568a"
   },
   "outputs": [],
   "source": [
    "def fib(n):\n",
    "    if n <= 1:\n",
    "        return 1 \n",
    "    else:\n",
    "        return fib(n - 1) + fib(n - 2)"
   ]
  },
  {
   "cell_type": "code",
   "execution_count": null,
   "id": "327d3770",
   "metadata": {
    "id": "327d3770"
   },
   "outputs": [],
   "source": [
    "fib(12)"
   ]
  },
  {
   "cell_type": "code",
   "execution_count": null,
   "id": "365bc852",
   "metadata": {
    "id": "365bc852"
   },
   "outputs": [],
   "source": [
    "li = []\n",
    "for i in range(1,10):\n",
    "    li.append(i)\n",
    "li"
   ]
  },
  {
   "cell_type": "code",
   "execution_count": null,
   "id": "9fd7191b",
   "metadata": {
    "id": "9fd7191b"
   },
   "outputs": [],
   "source": [
    "fibs = [(n, fib(n)) for n in range(1,10)]\n",
    "fibs"
   ]
  },
  {
   "cell_type": "markdown",
   "id": "3488680f",
   "metadata": {
    "id": "3488680f"
   },
   "source": [
    "## Квадратные уравнения"
   ]
  },
  {
   "cell_type": "code",
   "execution_count": null,
   "id": "13d76a4d",
   "metadata": {
    "id": "13d76a4d"
   },
   "outputs": [],
   "source": [
    "from math import sqrt\n",
    "\n",
    "def solve(a, b, c):\n",
    "    d = b**2 - 4*a*c\n",
    "    if d >= 0:\n",
    "        x1 = (-b + sqrt(d)) / (2 * a)\n",
    "        x2 = (-b - sqrt(d)) / (2 * a)\n",
    "        return (x1, x2)\n",
    "    else:\n",
    "        return 'Вещественных корней нет'"
   ]
  },
  {
   "cell_type": "code",
   "execution_count": null,
   "id": "76107d30",
   "metadata": {
    "id": "76107d30"
   },
   "outputs": [],
   "source": [
    "solve(0.5, 0.125, 0)"
   ]
  },
  {
   "cell_type": "code",
   "execution_count": null,
   "id": "3ff094c1",
   "metadata": {
    "id": "3ff094c1"
   },
   "outputs": [],
   "source": [
    "solve(1, 2, 3)"
   ]
  },
  {
   "cell_type": "code",
   "execution_count": null,
   "id": "4462a943",
   "metadata": {
    "id": "4462a943"
   },
   "outputs": [],
   "source": [
    "z1 = complex(1, 2)\n",
    "z2 = complex(3, 5)\n",
    "z1, z2\n",
    "# (z1, z2)"
   ]
  },
  {
   "cell_type": "code",
   "execution_count": null,
   "id": "df16b06a",
   "metadata": {
    "id": "df16b06a"
   },
   "outputs": [],
   "source": [
    "'z1 = ({}, {})'.format(z1.imag, z2.real)"
   ]
  },
  {
   "cell_type": "code",
   "execution_count": null,
   "id": "4d992b23",
   "metadata": {
    "id": "4d992b23"
   },
   "outputs": [],
   "source": [
    "import cmath\n",
    "\n",
    "def csolve(a, b, c):\n",
    "    d = b**2 - 4*a*c\n",
    "    x1 = (-b + cmath.sqrt(d)) / (2 * a)\n",
    "    x2 = (-b - cmath.sqrt(d)) / (2 * a)\n",
    "    return (x1, x2)"
   ]
  },
  {
   "cell_type": "code",
   "execution_count": null,
   "id": "b71a5e90",
   "metadata": {
    "id": "b71a5e90"
   },
   "outputs": [],
   "source": [
    "csolve(1, 2, 5)"
   ]
  },
  {
   "cell_type": "markdown",
   "id": "3169941b",
   "metadata": {
    "id": "3169941b"
   },
   "source": [
    "## Пример использования Map "
   ]
  },
  {
   "cell_type": "code",
   "execution_count": null,
   "id": "290bf8ce",
   "metadata": {
    "id": "290bf8ce"
   },
   "outputs": [],
   "source": [
    "f = lambda x: x**3\n",
    "list(map(f, range(1, 5)))"
   ]
  },
  {
   "cell_type": "markdown",
   "id": "8c1d6821",
   "metadata": {
    "id": "8c1d6821"
   },
   "source": [
    "##  [PIP](https://pypi.org/)"
   ]
  },
  {
   "cell_type": "code",
   "execution_count": null,
   "id": "b7a7720f",
   "metadata": {
    "id": "b7a7720f"
   },
   "outputs": [],
   "source": [
    "import matplotlib.pyplot as plt"
   ]
  },
  {
   "cell_type": "code",
   "execution_count": null,
   "id": "7ab82d5d",
   "metadata": {
    "id": "7ab82d5d"
   },
   "outputs": [],
   "source": [
    "import random\n",
    "\n",
    "random.randint(1, 10)"
   ]
  },
  {
   "cell_type": "code",
   "execution_count": null,
   "id": "b517635b",
   "metadata": {
    "id": "b517635b"
   },
   "outputs": [],
   "source": [
    "f = lambda x: random.randint(1, 10)\n",
    "points = list(map(f, range(1, 10)))\n",
    "points"
   ]
  },
  {
   "cell_type": "code",
   "execution_count": null,
   "id": "d16f5a4d",
   "metadata": {
    "id": "d16f5a4d"
   },
   "outputs": [],
   "source": [
    "p = plt.plot(points, 'b.') "
   ]
  },
  {
   "cell_type": "code",
   "execution_count": null,
   "id": "81d1bd6a",
   "metadata": {
    "id": "81d1bd6a"
   },
   "outputs": [],
   "source": [
    "plt.plot(points)\n",
    "plt.show()"
   ]
  },
  {
   "cell_type": "code",
   "execution_count": null,
   "id": "98205173",
   "metadata": {
    "id": "98205173"
   },
   "outputs": [],
   "source": [
    "x = list(map(f, range(1, 10)))\n",
    "y = list(map(f, range(1, 10)))\n",
    "print(x)\n",
    "print(y)\n",
    "# ., , , o, v, ^, <\t, >, 1, 2, 3, 4, 8, s, p, P, *, h, H, +, x, X, D, d, |, _, \n",
    "plt.plot(x, y, 'rD')\n",
    "plt.show()"
   ]
  },
  {
   "cell_type": "code",
   "execution_count": null,
   "id": "fa40112a",
   "metadata": {
    "id": "fa40112a"
   },
   "outputs": [],
   "source": [
    "x = list(range(1,200))\n",
    "fx = [i*i for i in x]\n",
    "\n",
    "# https://matplotlib.org/stable/api/_as_gen/matplotlib.pyplot.html?highlight=pyplot#\n",
    "# https://matplotlib.org/stable/api/_as_gen/matplotlib.pyplot.axes.html#matplotlib.pyplot.axes\n",
    "\n",
    "plt.axes(facecolor='white')\n",
    "plt.plot(x,fx)\n",
    "plt.show()"
   ]
  },
  {
   "cell_type": "markdown",
   "id": "aa31617f",
   "metadata": {
    "id": "aa31617f"
   },
   "source": [
    "### Настройки\n",
    "https://matplotlib.org/stable/tutorials/introductory/customizing.html"
   ]
  },
  {
   "cell_type": "code",
   "execution_count": null,
   "id": "3d9a79d3",
   "metadata": {
    "id": "3d9a79d3"
   },
   "outputs": [],
   "source": [
    "import matplotlib.pyplot as plt\n",
    "import matplotlib as mpl\n",
    "\n",
    "x = list(range(-200, 200))\n",
    "fx = [i**2 + 2*i - 3 for i in x]\n",
    "\n",
    "# https://matplotlib.org/stable/api/_as_gen/matplotlib.pyplot.html?highlight=pyplot#\n",
    "# https://matplotlib.org/stable/api/_as_gen/matplotlib.pyplot.axes.html#matplotlib.pyplot.axes\n",
    "\n",
    "mpl.rcParams['lines.linewidth'] = 2\n",
    "mpl.rcParams['lines.linestyle'] = '-.' #'--'\n",
    "mpl.rcParams['lines.color'] = 'C0'\n",
    "\n",
    "plt.axes(facecolor='white')\n",
    "plt.plot(x,fx)\n",
    "plt.show()"
   ]
  },
  {
   "cell_type": "code",
   "execution_count": null,
   "id": "1f27917e",
   "metadata": {
    "id": "1f27917e"
   },
   "outputs": [],
   "source": [
    "import matplotlib.pyplot as plt\n",
    "plt.plot([1,2],[1,-1], 'ro', markerfacecolor = 'red')\n",
    "plt.show()"
   ]
  },
  {
   "cell_type": "code",
   "execution_count": null,
   "id": "d69648d6",
   "metadata": {
    "id": "d69648d6"
   },
   "outputs": [],
   "source": [
    "import numpy as np\n",
    "from math import sqrt\n",
    "import matplotlib.pyplot as plt\n",
    "\n",
    "x = list(range(0, 500, 2))\n",
    "y = list(map(lambda a: sqrt(a),x))\n",
    "\n",
    "fig, ax = plt.subplots()\n",
    "\n",
    "ax.plot(x, y)\n",
    "ax.grid()\n",
    "\n",
    "#  Наименование осей\n",
    "ax.set_xlabel('x')\n",
    "ax.set_ylabel('sqrt(x)')\n",
    "  \n",
    "plt.show()"
   ]
  },
  {
   "cell_type": "code",
   "execution_count": null,
   "id": "faff25a4",
   "metadata": {
    "id": "faff25a4"
   },
   "outputs": [],
   "source": [
    "import matplotlib.pyplot as plt\n",
    "import random\n",
    "\n",
    "# random.randint(1, 10)\n",
    "\n",
    "vx = [1.0,2.0,3.0]\n",
    "vy = [1.0,2.0,1.0]\n",
    "\n",
    "sx = vx[0]\n",
    "sy = vy[0]\n",
    "\n",
    "px = []\n",
    "py = []\n",
    "\n",
    "for i in range(1,1000):\n",
    "    r = random.randint(0, 2)\n",
    "    sx = (sx + vx[r]) / 2\n",
    "    sy = (sy + vy[r]) / 2    \n",
    "    px.append(sx)\n",
    "    py.append(sy)\n",
    "  \n",
    "plt.plot(px, py, 'o')\n",
    "plt.show()"
   ]
  },
  {
   "cell_type": "code",
   "execution_count": null,
   "id": "d1502066",
   "metadata": {
    "id": "d1502066"
   },
   "outputs": [],
   "source": [
    "import random\n",
    "import matplotlib.pyplot as plt\n",
    "\n",
    "x = [1.0,2.0,3.0]\n",
    "y = [1.0,2.0,1.0]\n",
    "\n",
    "sx = x[0]\n",
    "sy = y[0]\n",
    "\n",
    "px = []\n",
    "py = []\n",
    "\n",
    "for i in range(1,100000):\n",
    "    r = random.randint(0, 2)\n",
    "    sx = (sx + x[r]) / 2\n",
    "    sy = (sy + y[r]) / 2    \n",
    "    px.append(sx)\n",
    "    py.append(sy)\n",
    "\n",
    "fig, ax = plt.subplots()\n",
    "\n",
    "# маркеры цветов 'b', 'g', 'r', 'c', 'm', 'y', 'k', 'w' , RGB: #00ff00\n",
    "ax.scatter(px, py, c = 'red', s = 1)\n",
    "ax.set_facecolor('black')\n",
    "\n",
    "# ax.grid()\n",
    "# ax.set_xlabel('')\n",
    "# ax.set_ylabel('')\n",
    "fig.set_figwidth(15)\n",
    "fig.set_figheight(10)\n",
    "plt.show()"
   ]
  },
  {
   "cell_type": "markdown",
   "id": "1b7c6895",
   "metadata": {
    "id": "1b7c6895"
   },
   "source": [
    " ![ку-ку](https://static.turbosquid.com/Preview/001207/528/WB/600.jpg \"описание при наведении\")"
   ]
  },
  {
   "cell_type": "code",
   "execution_count": null,
   "id": "10568739",
   "metadata": {
    "id": "10568739"
   },
   "outputs": [],
   "source": [
    "import random\n",
    "import matplotlib.pyplot as plt\n",
    "\n",
    "count = 10000\n",
    "x = list(range(1, 7))\n",
    "y = [0 for i in x]\n",
    "\n",
    "fig, ax = plt.subplots()\n",
    "\n",
    "for _ in range(count):\n",
    "    y[random.randint(0, 5)] += 1\n",
    "\n",
    "ax.bar(x, y)\n",
    "# \n",
    "y.sort()\n",
    "#print('{}%'.format(round((y[5] - y[0]) / count * 100, 3)))\n",
    "stat = [f'{i+1}: {round(y[i] / count * 100)}%' for i in range(0,6)]\n",
    "print(stat)\n",
    "plt.show()"
   ]
  },
  {
   "cell_type": "code",
   "execution_count": null,
   "id": "af46a847",
   "metadata": {},
   "outputs": [],
   "source": [
    "# pip install sympy"
   ]
  },
  {
   "cell_type": "code",
   "execution_count": null,
   "id": "9892d367",
   "metadata": {
    "id": "9892d367"
   },
   "outputs": [],
   "source": [
    "import sympy\n",
    "from sympy.plotting import plot\n",
    "sympy.init_printing()"
   ]
  },
  {
   "cell_type": "code",
   "execution_count": null,
   "id": "d5de8ab0",
   "metadata": {
    "id": "d5de8ab0"
   },
   "outputs": [],
   "source": [
    "x = sympy.Symbol('x')"
   ]
  },
  {
   "cell_type": "code",
   "execution_count": null,
   "id": "c6c818fd",
   "metadata": {
    "id": "c6c818fd"
   },
   "outputs": [],
   "source": [
    "f = x + 2022\n",
    "f"
   ]
  },
  {
   "cell_type": "code",
   "execution_count": null,
   "id": "fb5c37e1",
   "metadata": {
    "id": "fb5c37e1"
   },
   "outputs": [],
   "source": [
    "f.subs(x, -77)"
   ]
  },
  {
   "cell_type": "code",
   "execution_count": null,
   "id": "e5aa0c4c",
   "metadata": {
    "id": "e5aa0c4c"
   },
   "outputs": [],
   "source": [
    "f.subs(x,-210)"
   ]
  },
  {
   "cell_type": "code",
   "execution_count": null,
   "id": "1804f24a",
   "metadata": {
    "id": "1804f24a"
   },
   "outputs": [],
   "source": [
    "sympy.plot(f)\n",
    "print(f)"
   ]
  },
  {
   "cell_type": "code",
   "execution_count": null,
   "id": "78296749",
   "metadata": {
    "id": "78296749"
   },
   "outputs": [],
   "source": [
    "my_expression = 'sin(x+x)/x'\n",
    "my_expression = '(10+46)/5 - 8'\n",
    "sympy_expr = sympy.sympify(my_expression)\n",
    "g = sympy_expr\n",
    "sympy.plot(g)\n",
    "print(g)\n",
    "print(sympy.solve(g))"
   ]
  },
  {
   "cell_type": "code",
   "execution_count": null,
   "id": "13e2285c",
   "metadata": {
    "id": "13e2285c"
   },
   "outputs": [],
   "source": [
    "h = x**2\n",
    "h"
   ]
  },
  {
   "cell_type": "code",
   "execution_count": null,
   "id": "9f57c0a8",
   "metadata": {
    "id": "9f57c0a8"
   },
   "outputs": [],
   "source": [
    "plot(h)\n",
    "h"
   ]
  },
  {
   "cell_type": "code",
   "execution_count": null,
   "id": "155989c1",
   "metadata": {
    "id": "155989c1"
   },
   "outputs": [],
   "source": [
    "h=-h"
   ]
  },
  {
   "cell_type": "code",
   "execution_count": null,
   "id": "bc1e0a14",
   "metadata": {
    "id": "bc1e0a14"
   },
   "outputs": [],
   "source": [
    "plot(h)\n",
    "h"
   ]
  },
  {
   "cell_type": "code",
   "execution_count": null,
   "id": "29261e7d",
   "metadata": {
    "id": "29261e7d"
   },
   "outputs": [],
   "source": [
    "a = 1\n",
    "b = 0\n",
    "c = 0\n",
    "h = a*x**2 + b*x+c\n",
    "h"
   ]
  },
  {
   "cell_type": "code",
   "execution_count": null,
   "id": "341c0187",
   "metadata": {
    "id": "341c0187"
   },
   "outputs": [],
   "source": [
    "plot(h)\n",
    "h"
   ]
  },
  {
   "cell_type": "code",
   "execution_count": null,
   "id": "38a17e1f",
   "metadata": {
    "id": "38a17e1f"
   },
   "outputs": [],
   "source": [
    "a = 1\n",
    "b = 3\n",
    "c = 4\n",
    "h = a*x**2 + b*x+c\n",
    "h"
   ]
  },
  {
   "cell_type": "code",
   "execution_count": null,
   "id": "0dbe6015",
   "metadata": {
    "id": "0dbe6015"
   },
   "outputs": [],
   "source": [
    "plot(h)\n",
    "h"
   ]
  },
  {
   "cell_type": "code",
   "execution_count": null,
   "id": "9b10e0fc",
   "metadata": {
    "id": "9b10e0fc"
   },
   "outputs": [],
   "source": [
    "solve(h, x)"
   ]
  },
  {
   "cell_type": "code",
   "execution_count": null,
   "id": "defaa8c3",
   "metadata": {
    "id": "defaa8c3"
   },
   "outputs": [],
   "source": [
    "q = x/(x+2)\n",
    "q"
   ]
  },
  {
   "cell_type": "code",
   "execution_count": null,
   "id": "a26b23c4",
   "metadata": {
    "id": "a26b23c4"
   },
   "outputs": [],
   "source": [
    "plot(q)"
   ]
  },
  {
   "cell_type": "code",
   "execution_count": null,
   "id": "a0f656be",
   "metadata": {
    "id": "a0f656be"
   },
   "outputs": [],
   "source": [
    "fun1 = plot(q,(x,-10,-2.1), show=False)\n",
    "fun2 = plot(q,(x,-1.9,10), show=False)\n",
    "fun1.append(fun2[0])\n",
    "fun1.show()"
   ]
  },
  {
   "cell_type": "code",
   "execution_count": null,
   "id": "29accd86",
   "metadata": {
    "id": "29accd86"
   },
   "outputs": [],
   "source": [
    "x = Symbol('x')\n",
    "y = 1*x**2 + 2*x - 10\n",
    "solve(y)"
   ]
  },
  {
   "cell_type": "code",
   "execution_count": null,
   "id": "0d27d87c",
   "metadata": {
    "id": "0d27d87c"
   },
   "outputs": [],
   "source": [
    "res = plot(y,(x,-5, 5))"
   ]
  },
  {
   "cell_type": "code",
   "execution_count": null,
   "id": "d458e7d2",
   "metadata": {},
   "outputs": [],
   "source": []
  },
  {
   "cell_type": "markdown",
   "id": "c06e48fd",
   "metadata": {},
   "source": [
    "f(x) = -12x^4*sin(cos(x)) - 18x^3+5x^2 + 10x - 30"
   ]
  },
  {
   "cell_type": "code",
   "execution_count": 19,
   "id": "2c0ae982",
   "metadata": {},
   "outputs": [],
   "source": [
    "import sympy\n",
    "from sympy.plotting import plot\n",
    "sympy.init_printing()"
   ]
  },
  {
   "cell_type": "code",
   "execution_count": 20,
   "id": "fc6603d7",
   "metadata": {},
   "outputs": [
    {
     "name": "stdout",
     "output_type": "stream",
     "text": [
      "['0', '1', '2', '3', '4', '5', '6', '7', '8', '9']\n"
     ]
    }
   ],
   "source": [
    "print([str(x) for x in range(10)])"
   ]
  },
  {
   "cell_type": "code",
   "execution_count": 21,
   "id": "d8c432b9",
   "metadata": {},
   "outputs": [
    {
     "data": {
      "image/png": "[encoded data removed]",
      "text/latex": [
       "$\\displaystyle \\left[ 65, \\  66, \\  67, \\  68, \\  69, \\  70, \\  71, \\  72, \\  73, \\  74, \\  75, \\  76, \\  77, \\  78, \\  79, \\  80, \\  81, \\  82, \\  83, \\  84, \\  85, \\  86, \\  87, \\  88, \\  89, \\  90\\right]$"
      ],
      "text/plain": [
       "[65, 66, 67, 68, 69, 70, 71, 72, 73, 74, 75, 76, 77, 78, 79, 80, 81, 82, 83, 8\n",
       "4, 85, 86, 87, 88, 89, 90]"
      ]
     },
     "execution_count": 21,
     "metadata": {},
     "output_type": "execute_result"
    }
   ],
   "source": [
    "[x for x in range(ord('A'), ord('Z')+1)]"
   ]
  },
  {
   "cell_type": "code",
   "execution_count": 22,
   "id": "61217112",
   "metadata": {},
   "outputs": [
    {
     "data": {
      "text/plain": [
       "'abcdefghijklmnopqrstuvwxyz'"
      ]
     },
     "execution_count": 22,
     "metadata": {},
     "output_type": "execute_result"
    }
   ],
   "source": [
    "import string\n",
    "string.ascii_lowercase"
   ]
  },
  {
   "cell_type": "code",
   "execution_count": 37,
   "id": "92d81db8",
   "metadata": {},
   "outputs": [
    {
     "name": "stdout",
     "output_type": "stream",
     "text": [
      "-12*x**4*sin(cos(x))-18*x**3+5*x**2+10*x-30\n"
     ]
    }
   ],
   "source": [
    "# модуль для преобразования\n",
    "my_expression = '-12x^4*sin(cos(x)) - 18x^3+5x^2 + 10x - 30'\n",
    "# my_expression = 'exp(-x**2) - 0.5'\n",
    "# my_expression = '-12x^4*sin(cos(x))'\n",
    "# my_expression = '(10+46)/5 - 8'\n",
    "my_expression = my_expression.lower()\n",
    "# my_expression = '-12x^4*sin(cos(x)) - 18x^3+5x^2 + 10x - 30'\n",
    "digits = ['0', '1', '2', '3', '4', '5', '6', '7', '8', '9']\n",
    "multy = ['*', '/', '(', ')']\n",
    "symbols = [char for char in 'xabcdefghijklmnopqrstuvwyz']\n",
    "formated_expr = ''\n",
    "has_x = False\n",
    "for char in my_expression:\n",
    "    if char==' ':\n",
    "        continue\n",
    "    elif char in symbols:\n",
    "        if char == 'x':\n",
    "            has_x = True\n",
    "        if (formated_expr != ''):\n",
    "            if (formated_expr[-1] in digits):\n",
    "                formated_expr += '*' + char\n",
    "                continue\n",
    "#         else:\n",
    "        formated_expr += char\n",
    "    elif char=='^':\n",
    "        formated_expr += '**'\n",
    "    else:\n",
    "        formated_expr += char\n",
    "print(formated_expr)\n",
    "\n",
    "\n",
    "\n"
   ]
  },
  {
   "cell_type": "code",
   "execution_count": 129,
   "id": "206a3ef1",
   "metadata": {},
   "outputs": [
    {
     "name": "stdout",
     "output_type": "stream",
     "text": [
      "sympy.expand(sympy_expr)=-12*x**4*sin(cos(x)) - 18*x**3 + 5*x**2 + 10*x - 30\n",
      "sympy.factor(sympy_expr)=-12*x**4*sin(cos(x)) - 18*x**3 + 5*x**2 + 10*x - 30\n",
      "sympy_expr=-12*x**4*sin(cos(x)) - 18*x**3 + 5*x**2 + 10*x - 30\n",
      "sympy.trigsimp(sympy_expr)=-12*x**4*sin(cos(x)) - 18*x**3 + 5*x**2 + 10*x - 30\n",
      "sympy.powsimp(sympy_expr)=-12*x**4*sin(cos(x)) - 18*x**3 + 5*x**2 + 10*x - 30\n",
      "12*x**4*sin(x)*cos(cos(x)) - 48*x**3*sin(cos(x)) - 54*x**2 + 10*x + 10\n"
     ]
    },
    {
     "data": {
      "image/png": "[encoded data removed]",
      "text/plain": [
       "<Figure size 640x480 with 1 Axes>"
      ]
     },
     "metadata": {},
     "output_type": "display_data"
    },
    {
     "data": {
      "image/png": "[encoded data removed]",
      "text/plain": [
       "<Figure size 640x480 with 1 Axes>"
      ]
     },
     "metadata": {},
     "output_type": "display_data"
    }
   ],
   "source": [
    "# my_expression = '-12*x^4*sin(cos(x))-18*x^3+5*x^2+10*x-30'\n",
    "# my_expression = '(10+46)/5 - 8'\n",
    "sympy_expr = sympy.sympify(formated_expr)\n",
    "\n",
    "x = sympy.Symbol('x')\n",
    "print(f\"{sympy.expand(sympy_expr)=}\")\n",
    "print(f\"{sympy.factor(sympy_expr)=}\")\n",
    "print(f\"{sympy_expr=}\")\n",
    "print(f\"{sympy.trigsimp(sympy_expr)=}\")\n",
    "print(f\"{sympy.powsimp(sympy_expr)=}\")\n",
    "print(sympy.diff(sympy_expr, x))\n",
    "\n",
    "left = -100\n",
    "right = 100\n",
    "if has_x:\n",
    "    graph = sympy.plot(sympy_expr, (x, left, right), show = False)\n",
    "    graph.save('fig.png')\n",
    "    graph = sympy.plot(sympy.diff(sympy_expr, x), (x, left, right), show = False)\n",
    "    graph.save('fig_diff.png')\n",
    "else:\n",
    "    print(f\"Выражение равно {float(sympy_expr)}\")\n"
   ]
  },
  {
   "cell_type": "code",
   "execution_count": 54,
   "id": "7a55a634",
   "metadata": {},
   "outputs": [
    {
     "ename": "NotImplementedError",
     "evalue": "multiple generators [x, sin(cos(x))]\nNo algorithms are implemented to solve equation -12*x**4*sin(cos(x)) - 18*x**3 + 5*x**2 + 10*x - 30",
     "output_type": "error",
     "traceback": [
      "\u001b[0;31m---------------------------------------------------------------------------\u001b[0m",
      "\u001b[0;31mNotImplementedError\u001b[0m                       Traceback (most recent call last)",
      "Cell \u001b[0;32mIn[54], line 2\u001b[0m\n\u001b[1;32m      1\u001b[0m \u001b[38;5;28;01mfrom\u001b[39;00m \u001b[38;5;21;01msympy\u001b[39;00m\u001b[38;5;21;01m.\u001b[39;00m\u001b[38;5;21;01mabc\u001b[39;00m \u001b[38;5;28;01mimport\u001b[39;00m x\n\u001b[0;32m----> 2\u001b[0m \u001b[38;5;28mprint\u001b[39m(\u001b[43msympy\u001b[49m\u001b[38;5;241;43m.\u001b[39;49m\u001b[43msolve\u001b[49m\u001b[43m(\u001b[49m\u001b[43msympy_expr\u001b[49m\u001b[43m,\u001b[49m\u001b[43m \u001b[49m\u001b[43mx\u001b[49m\u001b[43m,\u001b[49m\u001b[43m \u001b[49m\u001b[38;5;28;43mdict\u001b[39;49m\u001b[38;5;241;43m=\u001b[39;49m\u001b[38;5;28;43;01mTrue\u001b[39;49;00m\u001b[43m)\u001b[49m)\n",
      "File \u001b[0;32m~/p38_env/lib/python3.8/site-packages/sympy/solvers/solvers.py:1112\u001b[0m, in \u001b[0;36msolve\u001b[0;34m(f, *symbols, **flags)\u001b[0m\n\u001b[1;32m   1108\u001b[0m \u001b[38;5;66;03m#\u001b[39;00m\n\u001b[1;32m   1109\u001b[0m \u001b[38;5;66;03m# try to get a solution\u001b[39;00m\n\u001b[1;32m   1110\u001b[0m \u001b[38;5;66;03m###########################################################################\u001b[39;00m\n\u001b[1;32m   1111\u001b[0m \u001b[38;5;28;01mif\u001b[39;00m bare_f:\n\u001b[0;32m-> 1112\u001b[0m     solution \u001b[38;5;241m=\u001b[39m \u001b[43m_solve\u001b[49m\u001b[43m(\u001b[49m\u001b[43mf\u001b[49m\u001b[43m[\u001b[49m\u001b[38;5;241;43m0\u001b[39;49m\u001b[43m]\u001b[49m\u001b[43m,\u001b[49m\u001b[43m \u001b[49m\u001b[38;5;241;43m*\u001b[39;49m\u001b[43msymbols\u001b[49m\u001b[43m,\u001b[49m\u001b[43m \u001b[49m\u001b[38;5;241;43m*\u001b[39;49m\u001b[38;5;241;43m*\u001b[39;49m\u001b[43mflags\u001b[49m\u001b[43m)\u001b[49m\n\u001b[1;32m   1113\u001b[0m \u001b[38;5;28;01melse\u001b[39;00m:\n\u001b[1;32m   1114\u001b[0m     solution \u001b[38;5;241m=\u001b[39m _solve_system(f, symbols, \u001b[38;5;241m*\u001b[39m\u001b[38;5;241m*\u001b[39mflags)\n",
      "File \u001b[0;32m~/p38_env/lib/python3.8/site-packages/sympy/solvers/solvers.py:1744\u001b[0m, in \u001b[0;36m_solve\u001b[0;34m(f, *symbols, **flags)\u001b[0m\n\u001b[1;32m   1741\u001b[0m \u001b[38;5;66;03m# ----------- end of fallback ----------------------------\u001b[39;00m\n\u001b[1;32m   1743\u001b[0m \u001b[38;5;28;01mif\u001b[39;00m result \u001b[38;5;129;01mis\u001b[39;00m \u001b[38;5;28;01mFalse\u001b[39;00m:\n\u001b[0;32m-> 1744\u001b[0m     \u001b[38;5;28;01mraise\u001b[39;00m \u001b[38;5;167;01mNotImplementedError\u001b[39;00m(\u001b[38;5;124m'\u001b[39m\u001b[38;5;130;01m\\n\u001b[39;00m\u001b[38;5;124m'\u001b[39m\u001b[38;5;241m.\u001b[39mjoin([msg, not_impl_msg \u001b[38;5;241m%\u001b[39m f]))\n\u001b[1;32m   1746\u001b[0m \u001b[38;5;28;01mif\u001b[39;00m flags\u001b[38;5;241m.\u001b[39mget(\u001b[38;5;124m'\u001b[39m\u001b[38;5;124msimplify\u001b[39m\u001b[38;5;124m'\u001b[39m, \u001b[38;5;28;01mTrue\u001b[39;00m):\n\u001b[1;32m   1747\u001b[0m     result \u001b[38;5;241m=\u001b[39m \u001b[38;5;28mlist\u001b[39m(\u001b[38;5;28mmap\u001b[39m(simplify, result))\n",
      "\u001b[0;31mNotImplementedError\u001b[0m: multiple generators [x, sin(cos(x))]\nNo algorithms are implemented to solve equation -12*x**4*sin(cos(x)) - 18*x**3 + 5*x**2 + 10*x - 30"
     ]
    }
   ],
   "source": [
    "from sympy.abc import x\n",
    "print(sympy.solve(sympy_expr, x, dict=True))"
   ]
  },
  {
   "cell_type": "code",
   "execution_count": 130,
   "id": "fdc41390",
   "metadata": {},
   "outputs": [
    {
     "ename": "NotImplementedError",
     "evalue": "No algorithms are implemented to solve equation -12*x**4*sin(cos(x)) - 18*x**3 + 5*x**2 + 10*x - 30",
     "output_type": "error",
     "traceback": [
      "\u001b[0;31m---------------------------------------------------------------------------\u001b[0m",
      "\u001b[0;31mNotImplementedError\u001b[0m                       Traceback (most recent call last)",
      "Cell \u001b[0;32mIn[130], line 2\u001b[0m\n\u001b[1;32m      1\u001b[0m \u001b[38;5;28;01mfrom\u001b[39;00m \u001b[38;5;21;01msympy\u001b[39;00m\u001b[38;5;21;01m.\u001b[39;00m\u001b[38;5;21;01mabc\u001b[39;00m \u001b[38;5;28;01mimport\u001b[39;00m x\n\u001b[0;32m----> 2\u001b[0m \u001b[38;5;28mprint\u001b[39m(\u001b[43msympy\u001b[49m\u001b[38;5;241;43m.\u001b[39;49m\u001b[43msolve\u001b[49m\u001b[43m(\u001b[49m\u001b[43msympy_expr\u001b[49m\u001b[43m,\u001b[49m\u001b[43m \u001b[49m\u001b[43m(\u001b[49m\u001b[43mx\u001b[49m\u001b[43m,\u001b[49m\u001b[43m \u001b[49m\u001b[43mleft\u001b[49m\u001b[43m,\u001b[49m\u001b[43m \u001b[49m\u001b[43mright\u001b[49m\u001b[43m)\u001b[49m\u001b[43m)\u001b[49m)\n",
      "File \u001b[0;32m~/p38_env/lib/python3.8/site-packages/sympy/solvers/solvers.py:1112\u001b[0m, in \u001b[0;36msolve\u001b[0;34m(f, *symbols, **flags)\u001b[0m\n\u001b[1;32m   1108\u001b[0m \u001b[38;5;66;03m#\u001b[39;00m\n\u001b[1;32m   1109\u001b[0m \u001b[38;5;66;03m# try to get a solution\u001b[39;00m\n\u001b[1;32m   1110\u001b[0m \u001b[38;5;66;03m###########################################################################\u001b[39;00m\n\u001b[1;32m   1111\u001b[0m \u001b[38;5;28;01mif\u001b[39;00m bare_f:\n\u001b[0;32m-> 1112\u001b[0m     solution \u001b[38;5;241m=\u001b[39m \u001b[43m_solve\u001b[49m\u001b[43m(\u001b[49m\u001b[43mf\u001b[49m\u001b[43m[\u001b[49m\u001b[38;5;241;43m0\u001b[39;49m\u001b[43m]\u001b[49m\u001b[43m,\u001b[49m\u001b[43m \u001b[49m\u001b[38;5;241;43m*\u001b[39;49m\u001b[43msymbols\u001b[49m\u001b[43m,\u001b[49m\u001b[43m \u001b[49m\u001b[38;5;241;43m*\u001b[39;49m\u001b[38;5;241;43m*\u001b[39;49m\u001b[43mflags\u001b[49m\u001b[43m)\u001b[49m\n\u001b[1;32m   1113\u001b[0m \u001b[38;5;28;01melse\u001b[39;00m:\n\u001b[1;32m   1114\u001b[0m     solution \u001b[38;5;241m=\u001b[39m _solve_system(f, symbols, \u001b[38;5;241m*\u001b[39m\u001b[38;5;241m*\u001b[39mflags)\n",
      "File \u001b[0;32m~/p38_env/lib/python3.8/site-packages/sympy/solvers/solvers.py:1396\u001b[0m, in \u001b[0;36m_solve\u001b[0;34m(f, *symbols, **flags)\u001b[0m\n\u001b[1;32m   1394\u001b[0m         \u001b[38;5;28;01mreturn\u001b[39;00m result\n\u001b[1;32m   1395\u001b[0m     \u001b[38;5;28;01melse\u001b[39;00m:\n\u001b[0;32m-> 1396\u001b[0m         \u001b[38;5;28;01mraise\u001b[39;00m \u001b[38;5;167;01mNotImplementedError\u001b[39;00m(not_impl_msg \u001b[38;5;241m%\u001b[39m f)\n\u001b[1;32m   1398\u001b[0m \u001b[38;5;66;03m# solve f for a single variable\u001b[39;00m\n\u001b[1;32m   1400\u001b[0m symbol \u001b[38;5;241m=\u001b[39m symbols[\u001b[38;5;241m0\u001b[39m]\n",
      "\u001b[0;31mNotImplementedError\u001b[0m: No algorithms are implemented to solve equation -12*x**4*sin(cos(x)) - 18*x**3 + 5*x**2 + 10*x - 30"
     ]
    }
   ],
   "source": [
    "from sympy.abc import x\n",
    "print(sympy.solve(sympy_expr, (x, left, right)))"
   ]
  },
  {
   "cell_type": "code",
   "execution_count": 58,
   "id": "bf7e2e77",
   "metadata": {},
   "outputs": [
    {
     "name": "stdout",
     "output_type": "stream",
     "text": [
      "⎧  │         ⎛      4                   3      2                ⎞⎫\n",
      "⎨x │ x ∊ ℝ ∧ ⎝- 12⋅x ⋅sin(cos(x)) - 18⋅x  + 5⋅x  + 10⋅x - 30 = 0⎠⎬\n",
      "⎩  │                                                             ⎭\n"
     ]
    }
   ],
   "source": [
    "from sympy import symbols, S, pprint, solveset\n",
    "from sympy.abc import x\n",
    "pprint(sympy.solveset(sympy_expr, x, domain=S.Reals))"
   ]
  },
  {
   "cell_type": "code",
   "execution_count": 62,
   "id": "aee52008",
   "metadata": {},
   "outputs": [
    {
     "data": {
      "text/latex": [
       "$\\displaystyle \\left\\{x\\; \\middle|\\; x \\in \\mathbb{C} \\wedge - 12 x^{4} \\sin{\\left(\\cos{\\left(x \\right)} \\right)} - 18 x^{3} + 5 x^{2} + 10 x - 30 = 0 \\right\\}$"
      ],
      "text/plain": [
       "⎧  │         ⎛      4                   3      2                ⎞⎫\n",
       "⎨x │ x ∊ ℂ ∧ ⎝- 12⋅x ⋅sin(cos(x)) - 18⋅x  + 5⋅x  + 10⋅x - 30 = 0⎠⎬\n",
       "⎩  │                                                             ⎭"
      ]
     },
     "execution_count": 62,
     "metadata": {},
     "output_type": "execute_result"
    }
   ],
   "source": [
    "from sympy import Symbol, Eq\n",
    "sympy.solvers.solveset(Eq(sympy_expr, 0), x)"
   ]
  },
  {
   "cell_type": "code",
   "execution_count": 53,
   "id": "5b15ab6d",
   "metadata": {},
   "outputs": [
    {
     "name": "stdout",
     "output_type": "stream",
     "text": [
      "12*x**4*sin(x)*cos(cos(x)) - 48*x**3*sin(cos(x)) - 54*x**2 + 10*x + 10\n"
     ]
    }
   ],
   "source": [
    "from sympy.abc import x\n",
    "print(sympy.diff(sympy_expr, x))"
   ]
  },
  {
   "cell_type": "code",
   "execution_count": 118,
   "id": "97f2fb19",
   "metadata": {},
   "outputs": [
    {
     "data": {
      "text/plain": [
       "array([0.45482422])"
      ]
     },
     "execution_count": 118,
     "metadata": {},
     "output_type": "execute_result"
    }
   ],
   "source": [
    "import math\n",
    "from scipy.optimize import fsolve\n",
    "\n",
    "def fx(x):\n",
    "    return (-12*x**4*math.sin(math.cos(x)) - 18*x**3 + 5*x**2 + 10*x - 30)\n",
    "def fx_diff(x):\n",
    "    return (12*x**4*math.sin(x)*math.cos(math.cos(x)) - 48*x**3*math.sin(math.cos(x)) - 54*x**2 + 10*x + 10)\n",
    "\n",
    "y = fsolve(fx, 0.01)\n",
    "y"
   ]
  },
  {
   "cell_type": "code",
   "execution_count": 91,
   "id": "e9ed4ccd",
   "metadata": {},
   "outputs": [
    {
     "name": "stdout",
     "output_type": "stream",
     "text": [
      "False\n",
      "False\n"
     ]
    }
   ],
   "source": [
    "print(False ^ False)\n",
    "print(True ^ True)"
   ]
  },
  {
   "cell_type": "code",
   "execution_count": 107,
   "id": "513a8eb5",
   "metadata": {},
   "outputs": [
    {
     "data": {
      "text/plain": [
       "'Welcome!!Welcome!!'"
      ]
     },
     "execution_count": 107,
     "metadata": {},
     "output_type": "execute_result"
    }
   ],
   "source": [
    "def fun(foo):\n",
    "    result = foo('Welcome!!')\n",
    "    return result\n",
    "\n",
    "def f1(s):\n",
    "    return s*2\n",
    "\n",
    "fun(f1)"
   ]
  },
  {
   "cell_type": "code",
   "execution_count": 123,
   "id": "6c96e58a",
   "metadata": {},
   "outputs": [
    {
     "name": "stdout",
     "output_type": "stream",
     "text": [
      "[[-7.65, -23.861192740608317], [-5.026, 6.398352102117677], [-1.338, -0.10667192892557864], [2.274, 0.27222935646465984], [4.384, -1.7524639730930431], [8.036, 41.36398250667132]]\n",
      " Dirivative = []\n"
     ]
    }
   ],
   "source": [
    "\n",
    "\n",
    "def find_zero(fx, left = -8, right = 9, accuracy = 1000):\n",
    "    change_sign = fx(left)>0\n",
    "    accuracy = accuracy\n",
    "    left = left\n",
    "    right = right\n",
    "    result = []\n",
    "    for x in range(left*accuracy,right*accuracy, 1):\n",
    "        temp = fx(x/accuracy)\n",
    "        if change_sign ^ (temp > 0):\n",
    "            result.append([x/accuracy, temp])\n",
    "            change_sign = temp > 0\n",
    "    return result\n",
    "\n",
    "def find_max(fx_diff, left = -8, right = 9, accuracy = 1000):\n",
    "    change_sign = fx_diff(left)>0\n",
    "    accuracy = accuracy\n",
    "    left = left\n",
    "    right = right\n",
    "    result = []\n",
    "    for x in range(left*accuracy,right*accuracy, 1):\n",
    "        temp = fx_diff(x/accuracy)\n",
    "        if change_sign and (temp < 0):\n",
    "            result.append([x/accuracy, temp])\n",
    "            change_sign = temp > 0\n",
    "    return result\n",
    "\n",
    "print(find_zero(fx))\n",
    "print(f\" Dirivative = {find_max(fx_diff)}\")"
   ]
  },
  {
   "cell_type": "code",
   "execution_count": 93,
   "id": "1334b3d6",
   "metadata": {},
   "outputs": [
    {
     "name": "stdout",
     "output_type": "stream",
     "text": [
      "-7.65062 -0.08766218477163079\n",
      "-5.02686 0.04382202285059833\n",
      "-1.33896 -0.0007337212635647461\n",
      "2.27306 0.0009095096860889385\n",
      "4.38353 -0.02317313065877613\n",
      "8.03517 0.29023938762368573\n"
     ]
    }
   ],
   "source": [
    "change_sign = find_zero(-8)>0\n",
    "accuracy = 100000\n",
    "left = -8\n",
    "right = 9\n",
    "for x in range(left*accuracy,right*accuracy, 1):\n",
    "    result = find_zero(x/accuracy)\n",
    "    if change_sign ^ (result > 0):\n",
    "        print(x/accuracy, find_zero(x/accuracy))\n",
    "        change_sign = (result > 0)\n",
    "\n",
    "        "
   ]
  },
  {
   "cell_type": "code",
   "execution_count": null,
   "id": "937eef13",
   "metadata": {},
   "outputs": [],
   "source": []
  }
 ],
 "metadata": {
  "celltoolbar": "Необработанный формат ячейки",
  "colab": {
   "provenance": []
  },
  "kernelspec": {
   "display_name": "Python 3 (ipykernel)",
   "language": "python",
   "name": "python3"
  },
  "language_info": {
   "codemirror_mode": {
    "name": "ipython",
    "version": 3
   },
   "file_extension": ".py",
   "mimetype": "text/x-python",
   "name": "python",
   "nbconvert_exporter": "python",
   "pygments_lexer": "ipython3",
   "version": "3.8.16"
  }
 },
 "nbformat": 4,
 "nbformat_minor": 5
}
